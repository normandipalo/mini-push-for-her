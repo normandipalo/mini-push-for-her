{
  "nbformat": 4,
  "nbformat_minor": 0,
  "metadata": {
    "colab": {
      "name": "mini-push-her.ipynb",
      "version": "0.3.2",
      "provenance": [],
      "collapsed_sections": [],
      "include_colab_link": true
    },
    "kernelspec": {
      "name": "python3",
      "display_name": "Python 3"
    }
  },
  "cells": [
    {
      "cell_type": "markdown",
      "metadata": {
        "id": "view-in-github",
        "colab_type": "text"
      },
      "source": [
        "<a href=\"https://colab.research.google.com/github/normandipalo/mini-push-for-her/blob/master/mini_push_her.ipynb\" target=\"_parent\"><img src=\"https://colab.research.google.com/assets/colab-badge.svg\" alt=\"Open In Colab\"/></a>"
      ]
    },
    {
      "metadata": {
        "id": "2vf3MCm1fW0C",
        "colab_type": "code",
        "colab": {}
      },
      "cell_type": "code",
      "source": [
        "import numpy as np\n",
        "import tensorflow as tf\n",
        "tf.enable_eager_execution()\n",
        "import matplotlib.pyplot as plt\n",
        "import random\n",
        "from IPython.display import clear_output\n",
        "%matplotlib inline"
      ],
      "execution_count": 0,
      "outputs": []
    },
    {
      "metadata": {
        "id": "0jsR761S9gje",
        "colab_type": "text"
      },
      "cell_type": "markdown",
      "source": [
        "## Create the environment. \n",
        "An agent pushes a block in a grid-world, and must reach a speicfied position with only sparse rewards."
      ]
    },
    {
      "metadata": {
        "id": "wDA7bN5rfZw3",
        "colab_type": "code",
        "colab": {}
      },
      "cell_type": "code",
      "source": [
        "\n",
        "\n",
        "class World():\n",
        "    def __init__(self):\n",
        "        self.map = np.zeros((5,5))\n",
        "        self.observation_space = self.observation()\n",
        "        self.action_space = self.action_sp()\n",
        "        self.agent = np.array([0.,0.])\n",
        "        self.cube = np.array([2.,2.])\n",
        "        self.goal = np.array([3.,3.])\n",
        "        \n",
        "    def reset(self):\n",
        "        self.map = np.zeros((5,5))\n",
        "        self.agent = np.random.randint(0, 4, size = (2)).reshape((2))\n",
        "        self.agent = np.array(self.agent, dtype = np.float32)\n",
        "        self.cube = np.random.randint(1, 3, size = (2)).reshape((2))\n",
        "        self.cube = np.array(self.cube, dtype = np.float32)\n",
        "        while (self.agent == self.cube).all():\n",
        "            self.cube = np.random.randint(1, 3, size = (2)).reshape((2))\n",
        "            self.cube = np.array(self.cube, dtype = np.float32)\n",
        "            \n",
        "        self.goal = np.random.randint(0, 4, size = (2)).reshape((2))\n",
        "        self.goal = np.array(self.cube, dtype = np.float32)\n",
        "        while (self.goal == self.cube).all():\n",
        "            self.goal = np.random.randint(0, 4, size = (2)).reshape((2))\n",
        "            self.goal = np.array(self.goal, dtype = np.float32)\n",
        "            \n",
        "        return np.concatenate((self.agent, self.cube, self.goal), axis = 0)\n",
        "    \n",
        "    def _move_agent(self, action):\n",
        "        self.agent = self.agent + np.array(action)\n",
        "        self.agent = np.clip(self.agent, 0., 4.)\n",
        "    \n",
        "    def step(self, action):\n",
        "        old_agent = self.agent.copy()\n",
        "        self._move_agent(action)\n",
        "        new_agent = self.agent.copy()\n",
        "        if (new_agent == self.cube).all():\n",
        "            delta = new_agent - old_agent\n",
        "            delta = np.array(delta, dtype = np.float32)\n",
        "            self.cube+=delta\n",
        "        reward = -1.\n",
        "        done = False\n",
        "        if (self.cube == self.goal).all():\n",
        "            reward = 1.\n",
        "            done = True\n",
        "        \n",
        "        return np.concatenate((self.agent, self.cube, self.goal), axis = 0), reward, done, {\"hello\": \"world\"}\n",
        "    \n",
        "    def show(self):\n",
        "        mappa = self.map.copy()\n",
        "        mappa[int(self.agent[0]), int(self.agent[1])] = 1.\n",
        "        mappa[int(np.clip(self.cube[0], 0, 4)), int(np.clip(self.cube[1], 0, 4))] = 2.\n",
        "        mappa[int(np.clip(self.goal[0], 0, 4)), int(np.clip(self.goal[1], 0, 4))] = 3.\n",
        "        print(mappa)\n",
        "        \n",
        "    class observation():\n",
        "        def __init__(self):\n",
        "            self.shape = [6]\n",
        "\n",
        "    class action_sp():\n",
        "        def __init__(self):\n",
        "            self.shape = [2]\n",
        "\n",
        "        def sample(self):\n",
        "            act = np.array([np.random.randint(-1, 2), np.random.randint(-1, 2)], dtype = np.float32)\n",
        "            return act"
      ],
      "execution_count": 0,
      "outputs": []
    },
    {
      "metadata": {
        "id": "D4UE_hbafcM6",
        "colab_type": "code",
        "colab": {}
      },
      "cell_type": "code",
      "source": [
        "from collections import deque\n",
        "from copy import deepcopy"
      ],
      "execution_count": 0,
      "outputs": []
    },
    {
      "metadata": {
        "id": "vUrqjhkepfus",
        "colab_type": "code",
        "colab": {}
      },
      "cell_type": "code",
      "source": [
        "def evaluate_trans(state, action, next_state):\n",
        "    if np.linalg.norm((next_state[2:4] - next_state[-2:])) < 0.1:\n",
        "        done = True\n",
        "        reward = 1.\n",
        "    else:\n",
        "        done = False\n",
        "        reward = -1.\n",
        "    return reward, done"
      ],
      "execution_count": 0,
      "outputs": []
    },
    {
      "metadata": {
        "id": "S_KmnSH39skw",
        "colab_type": "text"
      },
      "cell_type": "markdown",
      "source": [
        "## Deep Deterministic Policy Gradient.\n",
        "Create the various classes and functions needed to perform DDPG, such as Policy and Value Networks, Target Networks, Replay Buffer etc."
      ]
    },
    {
      "metadata": {
        "id": "wTUy70WlffQg",
        "colab_type": "code",
        "outputId": "d2acbac2-471b-4f2f-ef34-1f73b9c73ad9",
        "colab": {
          "base_uri": "https://localhost:8080/",
          "height": 35
        }
      },
      "cell_type": "code",
      "source": [
        "class ReplayBuffer:\n",
        "    def __init__(self, capacity):\n",
        "        self.capacity = capacity\n",
        "        self.buffer = []\n",
        "        self.position = 0\n",
        "    \n",
        "    def push(self, state, action, reward, next_state, done):\n",
        "        if len(self.buffer) < self.capacity:\n",
        "            self.buffer.append(None)\n",
        "        self.buffer[self.position] = (state, action, reward, next_state, done)\n",
        "        self.position = (self.position + 1) % self.capacity\n",
        "    \n",
        "    def sample(self, batch_size):\n",
        "        batch = random.sample(self.buffer, batch_size)\n",
        "        state, action, reward, next_state, done = map(np.stack, zip(*batch))\n",
        "        return state, action, reward, next_state, done\n",
        "    \n",
        "    def __len__(self):\n",
        "        return len(self.buffer)\n",
        "      \n",
        "class ValueNetwork(tf.keras.Model):\n",
        "    def __init__(self, num_inputs, num_actions, hidden_size, init_w = 3e-3):\n",
        "        super(ValueNetwork, self).__init__()\n",
        "        \n",
        "        self.linear1 = tf.keras.layers.Dense(units = hidden_size, activation = \"relu\")\n",
        "        self.linear2 = tf.keras.layers.Dense(units = hidden_size, activation = \"relu\")\n",
        "        self.linear3 = tf.keras.layers.Dense(units = 1, kernel_initializer = tf.keras.initializers.RandomUniform(minval = -init_w, maxval = init_w), bias_initializer = tf.keras.initializers.RandomUniform(minval = -init_w, maxval = init_w))\n",
        "        \n",
        "    def call(self, state, action):\n",
        "        action = tf.convert_to_tensor(action) #serve?\n",
        "        state = tf.convert_to_tensor(state)\n",
        "        x = tf.concat((action, state), axis = 1)\n",
        "        x = self.linear1(x)\n",
        "        x = self.linear2(x)\n",
        "        x = self.linear3(x)\n",
        "        return x\n",
        "    \n",
        "class PolicyNetwork(tf.keras.Model):\n",
        "    def __init__(self, num_inputs, num_actions, hidden_size, init_w = 3e-3):\n",
        "        super(PolicyNetwork, self).__init__()\n",
        "        \n",
        "        self.linear1 = tf.keras.layers.Dense(units = hidden_size, activation = \"relu\")\n",
        "        self.linear2 = tf.keras.layers.Dense(units = hidden_size, activation = \"relu\")\n",
        "        self.linear3 = tf.keras.layers.Dense(units = num_actions, activation = \"tanh\", kernel_initializer = tf.keras.initializers.RandomUniform(minval = -init_w, maxval = init_w),  bias_initializer = tf.keras.initializers.RandomUniform(minval = -init_w, maxval = init_w))\n",
        "        \n",
        "    def call(self, state):\n",
        "        state = tf.convert_to_tensor(state)\n",
        "        x = self.linear1(state)\n",
        "        x = self.linear2(x)\n",
        "        x = self.linear3(x)\n",
        "        x = x*1\n",
        "        return x\n",
        "    \n",
        "    def get_action(self, state):\n",
        "        state = tf.convert_to_tensor(state)\n",
        "        state = tf.expand_dims(state, 0)\n",
        "        action = self.call(state)\n",
        "        return action.numpy().squeeze(0) #detach -> stop gradients?\n",
        "      \n",
        "pol_losses = []\n",
        "val_losses = []\n",
        "def ddpg_update(batch_size, gamma = 0.9, min_value = -np.inf,\n",
        "                max_value = np.inf, soft_tau1 = 1e-1, soft_tau2 = 1e0, replay_buffer = None):\n",
        "    state, action, reward, next_state, done = replay_buffer.sample(batch_size)\n",
        "    \n",
        "    PRINT = False\n",
        "    #al posto di expand dims potrei quando possibile expandere il numpy con[None,:]\n",
        "    state = tf.convert_to_tensor(state, dtype = tf.float64)\n",
        "    if PRINT: print(\"state shape\", state.numpy().shape)\n",
        "    next_state = tf.convert_to_tensor(next_state, dtype = tf.float64)\n",
        "    if PRINT: print(\"next state shape\", next_state.numpy().shape)\n",
        "    action = tf.convert_to_tensor(action, dtype = tf.float64)\n",
        "    if PRINT: print(\"action shape\", action.numpy().shape)\n",
        "    reward = tf.expand_dims(tf.convert_to_tensor(reward, dtype = tf.float64),1)\n",
        "    if PRINT: print(\"reward shape\", reward.numpy().shape)\n",
        "    done = tf.expand_dims(tf.convert_to_tensor(np.float32(done), dtype = tf.float64), axis = 1)\n",
        "    \n",
        "    if PRINT: print(\"done shape\", done.numpy().shape)\n",
        "    with tf.GradientTape() as tape:\n",
        "        policy_loss = value_net(state, policy_net(state))\n",
        "        policy_loss = -tf.reduce_mean(policy_loss)\n",
        "        pol_losses.append(policy_loss)\n",
        "        if PRINT: print(\"Policy Loss\", policy_loss)\n",
        "        policy_grads = tape.gradient(policy_loss, policy_net.variables)\n",
        "        \n",
        "    #    print(\"Policy Grads\", [tf.reduce_mean(policy_grad).numpy() for policy_grad in policy_grads]) \n",
        "        policy_optimizer.apply_gradients(zip(policy_grads, policy_net.variables),\n",
        "                            global_step=tf.train.get_or_create_global_step())\n",
        "    \n",
        "    with tf.GradientTape() as tape:\n",
        "        \n",
        "        #rimetti target\n",
        "        next_action = target_policy_net(next_state)\n",
        "        target_value = target_value_net(next_state, tf.stop_gradient(next_action)) #next action è un tensore che arriva\n",
        "        expected_value = reward + (1.0 - done)*gamma*target_value             #da una rete quindi per questo dobbiamo impedire che venga backprop\n",
        "        \n",
        "        \n",
        "        value = value_net(state, action)\n",
        "        if PRINT: print(\"value shape\", value.numpy().shape)\n",
        "        if PRINT: print(\"exp value shape\", expected_value.numpy().shape)\n",
        "        value_loss = tf.losses.mean_squared_error(tf.stop_gradient(expected_value), value)\n",
        "        val_losses.append(value_loss)\n",
        "   #     value_loss = tf.reduce_mean(tf.square((tf.stop_gradient(expected_value) - value)))\n",
        "        if PRINT: print(\"Value Loss\", value_loss)\n",
        "\n",
        "        value_grads = tape.gradient(value_loss, value_net.variables)\n",
        "        value_optimizer.apply_gradients(zip(value_grads, value_net.variables),\n",
        "                            global_step=tf.train.get_or_create_global_step())\n",
        "    \n",
        "    for target_param, param in zip(target_value_net.variables, value_net.variables):\n",
        "        tf.assign(target_param, (target_param*(1.0 - soft_tau1) + param * soft_tau1))\n",
        "        \n",
        "    for target_param, param in zip(target_policy_net.variables, policy_net.variables):\n",
        "        tf.assign(target_param, (target_param*(1.0 - soft_tau1) + param * soft_tau1))\n",
        "   \n",
        "    for target_param, param in zip(target2_value_net.variables, target_value_net.variables):\n",
        "        tf.assign(target_param, (target_param*(1.0 - soft_tau2) + param * soft_tau2))\n",
        "        \n",
        "    for target_param, param in zip(target2_policy_net.variables, target_policy_net.variables):\n",
        "        tf.assign(target_param, (target_param*(1.0 - soft_tau2) + param * soft_tau2))\n",
        "        \n",
        "N = False\n",
        "env = World()\n",
        "print(env.action_space.shape)\n",
        "\n",
        "\n",
        "state_dim  = env.observation_space.shape[0]\n",
        "action_dim = env.action_space.shape[0]  if not N else env.action_space.n\n",
        "hidden_dim = 50\n",
        "\n",
        "value_net  = ValueNetwork(state_dim, action_dim, hidden_dim)\n",
        "policy_net = PolicyNetwork(state_dim, action_dim, hidden_dim)\n",
        "\n",
        "#Actually initialize network, otherwise it has no weights \n",
        "value_net(tf.convert_to_tensor(np.random.randn(1,state_dim)), action = tf.convert_to_tensor(np.random.randn(1,action_dim)))\n",
        "policy_net(tf.convert_to_tensor(np.random.randn(1, state_dim)))\n",
        "\n",
        "target_value_net  = ValueNetwork(state_dim, action_dim, hidden_dim)\n",
        "target_policy_net = PolicyNetwork(state_dim, action_dim, hidden_dim)\n",
        "\n",
        "#Actually initialize network, otherwise it has no weights\n",
        "target_value_net(tf.convert_to_tensor(np.random.randn(1,state_dim)), action = tf.convert_to_tensor(np.random.randn(1,action_dim)))\n",
        "target_policy_net(tf.convert_to_tensor(np.random.randn(1, state_dim)))\n",
        "\n",
        "\n",
        "for target_param, param in zip(target_value_net.variables, value_net.variables):\n",
        "    tf.assign(target_param , param)\n",
        "\n",
        "for target_param, param in zip(target_policy_net.variables, policy_net.variables):\n",
        "    tf.assign(target_param , param)\n",
        "    \n",
        "target2_value_net  = ValueNetwork(state_dim, action_dim, hidden_dim)\n",
        "target2_policy_net = PolicyNetwork(state_dim, action_dim, hidden_dim)\n",
        "\n",
        "#Actually initialize network, otherwise it has no weights\n",
        "target2_value_net(tf.convert_to_tensor(np.random.randn(1,state_dim)), action = tf.convert_to_tensor(np.random.randn(1,action_dim)))\n",
        "target2_policy_net(tf.convert_to_tensor(np.random.randn(1, state_dim)))\n",
        "\n",
        "for target_param, param in zip(target2_value_net.variables, value_net.variables):\n",
        "    tf.assign(target_param , param)\n",
        "\n",
        "for target_param, param in zip(target2_policy_net.variables, policy_net.variables):\n",
        "    tf.assign(target_param , param)\n",
        "\n",
        "value_lr  = 1e-3\n",
        "policy_lr = 1e-4\n",
        "\n",
        "value_optimizer = tf.train.AdamOptimizer(learning_rate = value_lr)\n",
        "policy_optimizer = tf.train.AdamOptimizer(learning_rate = policy_lr)\n",
        "\n",
        "replay_buffer_size = 1000000\n",
        "replay_buffer = ReplayBuffer(replay_buffer_size)\n",
        "        "
      ],
      "execution_count": 0,
      "outputs": [
        {
          "output_type": "stream",
          "text": [
            "[2]\n"
          ],
          "name": "stdout"
        }
      ]
    },
    {
      "metadata": {
        "id": "R9ZsxD0Q93MP",
        "colab_type": "text"
      },
      "cell_type": "markdown",
      "source": [
        "## Hindsight Experience Replay.\n",
        "Define the HER algorithm, which takes an experienced trajectory, stores it into buffer and also stores a modified trajectory substituting the goal with future reached stated."
      ]
    },
    {
      "metadata": {
        "id": "EN0wiQI2foFU",
        "colab_type": "code",
        "colab": {}
      },
      "cell_type": "code",
      "source": [
        "def herify(states, actions, rewards, next_states, dones, buffer):\n",
        "        T = len(states)\n",
        "        for t in range(T-1):\n",
        "            buffer.push(states[t].copy(), actions[t].copy(), rewards[t], next_states[t].copy(), dones[t])\n",
        "            for k in range(4):\n",
        "                future_step = np.random.randint(t+1,T)\n",
        "                future_goal = next_states[future_step][2:4]\n",
        "                state_f = deepcopy(states[t])\n",
        "                \n",
        "                if np.linalg.norm((state_f[2:4] - future_goal)) < 0.1: #se il goal fututo è già realizzato skippa\n",
        "                    continue\n",
        "                \n",
        "                state_f[-2:] = future_goal\n",
        "                next_state_f = deepcopy(next_states[t])\n",
        "                next_state_f[-2:] = future_goal\n",
        "                r_f, d_f = evaluate_trans(state_f, actions[t], next_state_f)\n",
        "                buffer.push(state_f, actions[t], r_f, next_state_f, d_f)\n",
        "                "
      ],
      "execution_count": 0,
      "outputs": []
    },
    {
      "metadata": {
        "id": "RdktdxV0foaM",
        "colab_type": "code",
        "colab": {}
      },
      "cell_type": "code",
      "source": [
        "replay_buffer = ReplayBuffer(100000)"
      ],
      "execution_count": 0,
      "outputs": []
    },
    {
      "metadata": {
        "id": "0axgW6IYftDC",
        "colab_type": "code",
        "colab": {}
      },
      "cell_type": "code",
      "source": [
        "def ev_policy():\n",
        "    fails, wins = 0,0\n",
        "    for i in range(100):\n",
        "        env = World()\n",
        "        state = env.reset()\n",
        "        done = False\n",
        "        st = 0\n",
        "        while not done:\n",
        "            st+=1\n",
        "            if st == 30: \n",
        "                done = True\n",
        "                fails+=1\n",
        "                break\n",
        "            act = policy_net.get_action(np.array(state, dtype = np.float64))\n",
        "            act = np.array(act, dtype = np.float64)\n",
        "            state = np.array(state, dtype = np.float64)\n",
        "       #     print(\"value\", value_net(state.reshape((1,-1)), act.reshape((1,-1))))\n",
        "            act += np.random.randn(2)*0.1\n",
        "        #    print(act)\n",
        "            for a in range(len(act)):\n",
        "                if act[a] < -0.3 : act[a] = -1.\n",
        "                if act[a] > -0.3 and act[a] < 0.3: act[a] = 0.\n",
        "                if act[a] > 0.3: act[a] = 1.\n",
        "        #    print(act)\n",
        "            next_state, reward, done, _ = env.step(act)\n",
        "            if reward==1:\n",
        "                wins+=1\n",
        "        #    print(next_state)\n",
        "        #    env.show()\n",
        "            state = next_state\n",
        "        #    print(\"REWARD\", reward, \"DONE\", done)\n",
        "    return wins"
      ],
      "execution_count": 0,
      "outputs": []
    },
    {
      "metadata": {
        "id": "CNGlfz-f-FgU",
        "colab_type": "text"
      },
      "cell_type": "markdown",
      "source": [
        "## Training phase."
      ]
    },
    {
      "metadata": {
        "id": "_dhPKYDRfuau",
        "colab_type": "code",
        "outputId": "f5c72a2e-365f-489a-82b6-31c41ca644d4",
        "colab": {
          "base_uri": "https://localhost:8080/",
          "height": 1552
        }
      },
      "cell_type": "code",
      "source": [
        "#generate rollout\n",
        "winslist = []\n",
        "states, actions, rewards, next_states, dones = [], [], [], [], []\n",
        "env = World()\n",
        "for i in range(500000):\n",
        "    states, actions, rewards, next_states, dones = [], [], [], [], []\n",
        "    state = env.reset()\n",
        "    done = False\n",
        "    steps = 0\n",
        "    while not done:\n",
        "        steps += 1\n",
        "        act =policy_net.get_action(np.array(state, dtype = np.float64))\n",
        "        act += np.random.randn(2)*0.1\n",
        "        act_disc = deepcopy(act)\n",
        "        for a in range(len(act)):\n",
        "            if act[a] < -0.3 : act_disc[a] = -1.\n",
        "            if act[a] > -0.3 and act[a] < 0.3: act_disc[a] = 0.\n",
        "            if act[a] > 0.3: act_disc[a] = 1.\n",
        "        next_state, reward, done, _ = env.step(act_disc)\n",
        "        if steps > 30: break\n",
        "        states.append(state)\n",
        "        actions.append(act)\n",
        "        rewards.append(reward)\n",
        "        next_states.append(next_state)\n",
        "        dones.append(done)\n",
        "        state = next_state\n",
        "    herify(states, actions, rewards, next_states, dones, replay_buffer)\n",
        "    if i % 10 == 0 and not i == 0:\n",
        "        for k in range(10):\n",
        "            if len(replay_buffer) > 128:\n",
        "              ddpg_update(64, replay_buffer=replay_buffer)\n",
        "    if i % 501 == 0:\n",
        "        wins = 0\n",
        "        \n",
        "        wins+=ev_policy()\n",
        "        winslist.append(wins)\n",
        "        clear_output(True)\n",
        "        plt.figure(figsize=(20,5))\n",
        "        plt.subplot(131)\n",
        "        plt.plot(winslist)\n",
        "        plt.show()"
      ],
      "execution_count": 0,
      "outputs": [
        {
          "output_type": "display_data",
          "data": {
            "image/png": "[encoded data removed]",
            "text/plain": [
              "<matplotlib.figure.Figure at 0x7f775e2032e8>"
            ]
          },
          "metadata": {
            "tags": []
          }
        },
        {
          "output_type": "error",
          "ename": "KeyboardInterrupt",
          "evalue": "ignored",
          "traceback": [
            "\u001b[0;31m---------------------------------------------------------------------------\u001b[0m",
            "\u001b[0;31mKeyboardInterrupt\u001b[0m                         Traceback (most recent call last)",
            "\u001b[0;32m<ipython-input-9-a273b21aa830>\u001b[0m in \u001b[0;36m<module>\u001b[0;34m()\u001b[0m\n\u001b[1;32m     28\u001b[0m         \u001b[0;32mfor\u001b[0m \u001b[0mk\u001b[0m \u001b[0;32min\u001b[0m \u001b[0mrange\u001b[0m\u001b[0;34m(\u001b[0m\u001b[0;36m10\u001b[0m\u001b[0;34m)\u001b[0m\u001b[0;34m:\u001b[0m\u001b[0;34m\u001b[0m\u001b[0m\n\u001b[1;32m     29\u001b[0m             \u001b[0;32mif\u001b[0m \u001b[0mlen\u001b[0m\u001b[0;34m(\u001b[0m\u001b[0mreplay_buffer\u001b[0m\u001b[0;34m)\u001b[0m \u001b[0;34m>\u001b[0m \u001b[0;36m128\u001b[0m\u001b[0;34m:\u001b[0m\u001b[0;34m\u001b[0m\u001b[0m\n\u001b[0;32m---> 30\u001b[0;31m               \u001b[0mddpg_update\u001b[0m\u001b[0;34m(\u001b[0m\u001b[0;36m64\u001b[0m\u001b[0;34m,\u001b[0m \u001b[0mreplay_buffer\u001b[0m\u001b[0;34m=\u001b[0m\u001b[0mreplay_buffer\u001b[0m\u001b[0;34m)\u001b[0m\u001b[0;34m\u001b[0m\u001b[0m\n\u001b[0m\u001b[1;32m     31\u001b[0m     \u001b[0;32mif\u001b[0m \u001b[0mi\u001b[0m \u001b[0;34m%\u001b[0m \u001b[0;36m501\u001b[0m \u001b[0;34m==\u001b[0m \u001b[0;36m0\u001b[0m\u001b[0;34m:\u001b[0m\u001b[0;34m\u001b[0m\u001b[0m\n\u001b[1;32m     32\u001b[0m         \u001b[0mwins\u001b[0m \u001b[0;34m=\u001b[0m \u001b[0;36m0\u001b[0m\u001b[0;34m\u001b[0m\u001b[0m\n",
            "\u001b[0;32m<ipython-input-5-54ae1ea1fd12>\u001b[0m in \u001b[0;36mddpg_update\u001b[0;34m(batch_size, gamma, min_value, max_value, soft_tau1, soft_tau2, replay_buffer)\u001b[0m\n\u001b[1;32m    106\u001b[0m         \u001b[0mvalue_grads\u001b[0m \u001b[0;34m=\u001b[0m \u001b[0mtape\u001b[0m\u001b[0;34m.\u001b[0m\u001b[0mgradient\u001b[0m\u001b[0;34m(\u001b[0m\u001b[0mvalue_loss\u001b[0m\u001b[0;34m,\u001b[0m \u001b[0mvalue_net\u001b[0m\u001b[0;34m.\u001b[0m\u001b[0mvariables\u001b[0m\u001b[0;34m)\u001b[0m\u001b[0;34m\u001b[0m\u001b[0m\n\u001b[1;32m    107\u001b[0m         value_optimizer.apply_gradients(zip(value_grads, value_net.variables),\n\u001b[0;32m--> 108\u001b[0;31m                             global_step=tf.train.get_or_create_global_step())\n\u001b[0m\u001b[1;32m    109\u001b[0m \u001b[0;34m\u001b[0m\u001b[0m\n\u001b[1;32m    110\u001b[0m     \u001b[0;32mfor\u001b[0m \u001b[0mtarget_param\u001b[0m\u001b[0;34m,\u001b[0m \u001b[0mparam\u001b[0m \u001b[0;32min\u001b[0m \u001b[0mzip\u001b[0m\u001b[0;34m(\u001b[0m\u001b[0mtarget_value_net\u001b[0m\u001b[0;34m.\u001b[0m\u001b[0mvariables\u001b[0m\u001b[0;34m,\u001b[0m \u001b[0mvalue_net\u001b[0m\u001b[0;34m.\u001b[0m\u001b[0mvariables\u001b[0m\u001b[0;34m)\u001b[0m\u001b[0;34m:\u001b[0m\u001b[0;34m\u001b[0m\u001b[0m\n",
            "\u001b[0;32m/usr/local/lib/python3.6/dist-packages/tensorflow/python/training/optimizer.py\u001b[0m in \u001b[0;36mapply_gradients\u001b[0;34m(self, grads_and_vars, global_step, name)\u001b[0m\n\u001b[1;32m    608\u001b[0m           \u001b[0mscope_name\u001b[0m \u001b[0;34m=\u001b[0m \u001b[0mvar\u001b[0m\u001b[0;34m.\u001b[0m\u001b[0mop\u001b[0m\u001b[0;34m.\u001b[0m\u001b[0mname\u001b[0m\u001b[0;34m\u001b[0m\u001b[0m\n\u001b[1;32m    609\u001b[0m         \u001b[0;32mwith\u001b[0m \u001b[0mops\u001b[0m\u001b[0;34m.\u001b[0m\u001b[0mname_scope\u001b[0m\u001b[0;34m(\u001b[0m\u001b[0;34m\"update_\"\u001b[0m \u001b[0;34m+\u001b[0m \u001b[0mscope_name\u001b[0m\u001b[0;34m)\u001b[0m\u001b[0;34m,\u001b[0m \u001b[0mops\u001b[0m\u001b[0;34m.\u001b[0m\u001b[0mcolocate_with\u001b[0m\u001b[0;34m(\u001b[0m\u001b[0mvar\u001b[0m\u001b[0;34m)\u001b[0m\u001b[0;34m:\u001b[0m\u001b[0;34m\u001b[0m\u001b[0m\n\u001b[0;32m--> 610\u001b[0;31m           \u001b[0mupdate_ops\u001b[0m\u001b[0;34m.\u001b[0m\u001b[0mappend\u001b[0m\u001b[0;34m(\u001b[0m\u001b[0mprocessor\u001b[0m\u001b[0;34m.\u001b[0m\u001b[0mupdate_op\u001b[0m\u001b[0;34m(\u001b[0m\u001b[0mself\u001b[0m\u001b[0;34m,\u001b[0m \u001b[0mgrad\u001b[0m\u001b[0;34m)\u001b[0m\u001b[0;34m)\u001b[0m\u001b[0;34m\u001b[0m\u001b[0m\n\u001b[0m\u001b[1;32m    611\u001b[0m       \u001b[0;32mif\u001b[0m \u001b[0mglobal_step\u001b[0m \u001b[0;32mis\u001b[0m \u001b[0;32mNone\u001b[0m\u001b[0;34m:\u001b[0m\u001b[0;34m\u001b[0m\u001b[0m\n\u001b[1;32m    612\u001b[0m         \u001b[0mapply_updates\u001b[0m \u001b[0;34m=\u001b[0m \u001b[0mself\u001b[0m\u001b[0;34m.\u001b[0m\u001b[0m_finish\u001b[0m\u001b[0;34m(\u001b[0m\u001b[0mupdate_ops\u001b[0m\u001b[0;34m,\u001b[0m \u001b[0mname\u001b[0m\u001b[0;34m)\u001b[0m\u001b[0;34m\u001b[0m\u001b[0m\n",
            "\u001b[0;32m/usr/local/lib/python3.6/dist-packages/tensorflow/python/training/optimizer.py\u001b[0m in \u001b[0;36mupdate_op\u001b[0;34m(self, optimizer, g)\u001b[0m\n\u001b[1;32m    165\u001b[0m       return optimizer._resource_apply_sparse_duplicate_indices(\n\u001b[1;32m    166\u001b[0m           g.values, self._v, g.indices)\n\u001b[0;32m--> 167\u001b[0;31m     \u001b[0mupdate_op\u001b[0m \u001b[0;34m=\u001b[0m \u001b[0moptimizer\u001b[0m\u001b[0;34m.\u001b[0m\u001b[0m_resource_apply_dense\u001b[0m\u001b[0;34m(\u001b[0m\u001b[0mg\u001b[0m\u001b[0;34m,\u001b[0m \u001b[0mself\u001b[0m\u001b[0;34m.\u001b[0m\u001b[0m_v\u001b[0m\u001b[0;34m)\u001b[0m\u001b[0;34m\u001b[0m\u001b[0m\n\u001b[0m\u001b[1;32m    168\u001b[0m     \u001b[0;32mif\u001b[0m \u001b[0mself\u001b[0m\u001b[0;34m.\u001b[0m\u001b[0m_v\u001b[0m\u001b[0;34m.\u001b[0m\u001b[0mconstraint\u001b[0m \u001b[0;32mis\u001b[0m \u001b[0;32mnot\u001b[0m \u001b[0;32mNone\u001b[0m\u001b[0;34m:\u001b[0m\u001b[0;34m\u001b[0m\u001b[0m\n\u001b[1;32m    169\u001b[0m       \u001b[0;32mwith\u001b[0m \u001b[0mops\u001b[0m\u001b[0;34m.\u001b[0m\u001b[0mcontrol_dependencies\u001b[0m\u001b[0;34m(\u001b[0m\u001b[0;34m[\u001b[0m\u001b[0mupdate_op\u001b[0m\u001b[0;34m]\u001b[0m\u001b[0;34m)\u001b[0m\u001b[0;34m:\u001b[0m\u001b[0;34m\u001b[0m\u001b[0m\n",
            "\u001b[0;32m/usr/local/lib/python3.6/dist-packages/tensorflow/python/training/adam.py\u001b[0m in \u001b[0;36m_resource_apply_dense\u001b[0;34m(self, grad, var)\u001b[0m\n\u001b[1;32m    162\u001b[0m \u001b[0;34m\u001b[0m\u001b[0m\n\u001b[1;32m    163\u001b[0m   \u001b[0;32mdef\u001b[0m \u001b[0m_resource_apply_dense\u001b[0m\u001b[0;34m(\u001b[0m\u001b[0mself\u001b[0m\u001b[0;34m,\u001b[0m \u001b[0mgrad\u001b[0m\u001b[0;34m,\u001b[0m \u001b[0mvar\u001b[0m\u001b[0;34m)\u001b[0m\u001b[0;34m:\u001b[0m\u001b[0;34m\u001b[0m\u001b[0m\n\u001b[0;32m--> 164\u001b[0;31m     \u001b[0mm\u001b[0m \u001b[0;34m=\u001b[0m \u001b[0mself\u001b[0m\u001b[0;34m.\u001b[0m\u001b[0mget_slot\u001b[0m\u001b[0;34m(\u001b[0m\u001b[0mvar\u001b[0m\u001b[0;34m,\u001b[0m \u001b[0;34m\"m\"\u001b[0m\u001b[0;34m)\u001b[0m\u001b[0;34m\u001b[0m\u001b[0m\n\u001b[0m\u001b[1;32m    165\u001b[0m     \u001b[0mv\u001b[0m \u001b[0;34m=\u001b[0m \u001b[0mself\u001b[0m\u001b[0;34m.\u001b[0m\u001b[0mget_slot\u001b[0m\u001b[0;34m(\u001b[0m\u001b[0mvar\u001b[0m\u001b[0;34m,\u001b[0m \u001b[0;34m\"v\"\u001b[0m\u001b[0;34m)\u001b[0m\u001b[0;34m\u001b[0m\u001b[0m\n\u001b[1;32m    166\u001b[0m     \u001b[0mbeta1_power\u001b[0m\u001b[0;34m,\u001b[0m \u001b[0mbeta2_power\u001b[0m \u001b[0;34m=\u001b[0m \u001b[0mself\u001b[0m\u001b[0;34m.\u001b[0m\u001b[0m_get_beta_accumulators\u001b[0m\u001b[0;34m(\u001b[0m\u001b[0;34m)\u001b[0m\u001b[0;34m\u001b[0m\u001b[0m\n",
            "\u001b[0;32m/usr/local/lib/python3.6/dist-packages/tensorflow/python/training/optimizer.py\u001b[0m in \u001b[0;36mget_slot\u001b[0;34m(self, var, name)\u001b[0m\n\u001b[1;32m    754\u001b[0m       \u001b[0;32mreturn\u001b[0m \u001b[0mmirrored_slot\u001b[0m\u001b[0;34m.\u001b[0m\u001b[0mget\u001b[0m\u001b[0;34m(\u001b[0m\u001b[0mdevice\u001b[0m\u001b[0;34m=\u001b[0m\u001b[0mvar\u001b[0m\u001b[0;34m.\u001b[0m\u001b[0mdevice\u001b[0m\u001b[0;34m)\u001b[0m\u001b[0;34m\u001b[0m\u001b[0m\n\u001b[1;32m    755\u001b[0m \u001b[0;34m\u001b[0m\u001b[0m\n\u001b[0;32m--> 756\u001b[0;31m     \u001b[0;32mreturn\u001b[0m \u001b[0mnamed_slots\u001b[0m\u001b[0;34m.\u001b[0m\u001b[0mget\u001b[0m\u001b[0;34m(\u001b[0m\u001b[0m_var_key\u001b[0m\u001b[0;34m(\u001b[0m\u001b[0mvar\u001b[0m\u001b[0;34m)\u001b[0m\u001b[0;34m,\u001b[0m \u001b[0;32mNone\u001b[0m\u001b[0;34m)\u001b[0m\u001b[0;34m\u001b[0m\u001b[0m\n\u001b[0m\u001b[1;32m    757\u001b[0m \u001b[0;34m\u001b[0m\u001b[0m\n\u001b[1;32m    758\u001b[0m   \u001b[0;32mdef\u001b[0m \u001b[0mget_slot_names\u001b[0m\u001b[0;34m(\u001b[0m\u001b[0mself\u001b[0m\u001b[0;34m)\u001b[0m\u001b[0;34m:\u001b[0m\u001b[0;34m\u001b[0m\u001b[0m\n",
            "\u001b[0;32m/usr/local/lib/python3.6/dist-packages/tensorflow/python/training/optimizer.py\u001b[0m in \u001b[0;36m_var_key\u001b[0;34m(var)\u001b[0m\n\u001b[1;32m     80\u001b[0m \u001b[0;32mdef\u001b[0m \u001b[0m_var_key\u001b[0m\u001b[0;34m(\u001b[0m\u001b[0mvar\u001b[0m\u001b[0;34m)\u001b[0m\u001b[0;34m:\u001b[0m\u001b[0;34m\u001b[0m\u001b[0m\n\u001b[1;32m     81\u001b[0m   \u001b[0;31m# TODO(ashankar): Consolidate handling for eager and graph\u001b[0m\u001b[0;34m\u001b[0m\u001b[0;34m\u001b[0m\u001b[0m\n\u001b[0;32m---> 82\u001b[0;31m   \u001b[0;32mif\u001b[0m \u001b[0mhasattr\u001b[0m\u001b[0;34m(\u001b[0m\u001b[0mvar\u001b[0m\u001b[0;34m,\u001b[0m \u001b[0;34m\"op\"\u001b[0m\u001b[0;34m)\u001b[0m\u001b[0;34m:\u001b[0m\u001b[0;34m\u001b[0m\u001b[0m\n\u001b[0m\u001b[1;32m     83\u001b[0m     \u001b[0;32mreturn\u001b[0m \u001b[0;34m(\u001b[0m\u001b[0mvar\u001b[0m\u001b[0;34m.\u001b[0m\u001b[0mop\u001b[0m\u001b[0;34m.\u001b[0m\u001b[0mgraph\u001b[0m\u001b[0;34m,\u001b[0m \u001b[0mvar\u001b[0m\u001b[0;34m.\u001b[0m\u001b[0mop\u001b[0m\u001b[0;34m.\u001b[0m\u001b[0mname\u001b[0m\u001b[0;34m)\u001b[0m\u001b[0;34m\u001b[0m\u001b[0m\n\u001b[1;32m     84\u001b[0m   \u001b[0;32mreturn\u001b[0m \u001b[0mvar\u001b[0m\u001b[0;34m.\u001b[0m\u001b[0m_unique_id\u001b[0m  \u001b[0;31m# pylint: disable=protected-access\u001b[0m\u001b[0;34m\u001b[0m\u001b[0m\n",
            "\u001b[0;32m/usr/local/lib/python3.6/dist-packages/tensorflow/python/ops/resource_variable_ops.py\u001b[0m in \u001b[0;36mop\u001b[0;34m(self)\u001b[0m\n\u001b[1;32m    673\u001b[0m   \u001b[0;32mdef\u001b[0m \u001b[0mop\u001b[0m\u001b[0;34m(\u001b[0m\u001b[0mself\u001b[0m\u001b[0;34m)\u001b[0m\u001b[0;34m:\u001b[0m\u001b[0;34m\u001b[0m\u001b[0m\n\u001b[1;32m    674\u001b[0m     \u001b[0;34m\"\"\"The op for this variable.\"\"\"\u001b[0m\u001b[0;34m\u001b[0m\u001b[0m\n\u001b[0;32m--> 675\u001b[0;31m     \u001b[0;32mreturn\u001b[0m \u001b[0mself\u001b[0m\u001b[0;34m.\u001b[0m\u001b[0m_handle\u001b[0m\u001b[0;34m.\u001b[0m\u001b[0mop\u001b[0m\u001b[0;34m\u001b[0m\u001b[0m\n\u001b[0m\u001b[1;32m    676\u001b[0m \u001b[0;34m\u001b[0m\u001b[0m\n\u001b[1;32m    677\u001b[0m   \u001b[0;32mdef\u001b[0m \u001b[0meval\u001b[0m\u001b[0;34m(\u001b[0m\u001b[0mself\u001b[0m\u001b[0;34m,\u001b[0m \u001b[0msession\u001b[0m\u001b[0;34m=\u001b[0m\u001b[0;32mNone\u001b[0m\u001b[0;34m)\u001b[0m\u001b[0;34m:\u001b[0m\u001b[0;34m\u001b[0m\u001b[0m\n",
            "\u001b[0;32m/usr/local/lib/python3.6/dist-packages/tensorflow/python/framework/ops.py\u001b[0m in \u001b[0;36mop\u001b[0;34m(self)\u001b[0m\n\u001b[1;32m    931\u001b[0m   \u001b[0;32mdef\u001b[0m \u001b[0mop\u001b[0m\u001b[0;34m(\u001b[0m\u001b[0mself\u001b[0m\u001b[0;34m)\u001b[0m\u001b[0;34m:\u001b[0m\u001b[0;34m\u001b[0m\u001b[0m\n\u001b[1;32m    932\u001b[0m     raise AttributeError(\n\u001b[0;32m--> 933\u001b[0;31m         \"Tensor.op is meaningless when eager execution is enabled.\")\n\u001b[0m\u001b[1;32m    934\u001b[0m \u001b[0;34m\u001b[0m\u001b[0m\n\u001b[1;32m    935\u001b[0m   \u001b[0;34m@\u001b[0m\u001b[0mproperty\u001b[0m\u001b[0;34m\u001b[0m\u001b[0m\n",
            "\u001b[0;31mKeyboardInterrupt\u001b[0m: "
          ]
        }
      ]
    },
    {
      "metadata": {
        "id": "BnloSnprXOX3",
        "colab_type": "code",
        "colab": {}
      },
      "cell_type": "code",
      "source": [
        "def show(state):\n",
        "  import time\n",
        "  mappa = np.ones((5,5,3))\n",
        "  agent = state[:2]\n",
        "  cube = state[2:4]\n",
        "  goal = state[4:]\n",
        "  mappa[int(agent[0]), int(agent[1]),:] = [0.,0.,0.]\n",
        "  mappa[int(cube[0]), int(cube[1]), :] = [1.,0.,0.]\n",
        "  mappa[int(goal[0]), int(goal[1]), :] = [0.,1.,0.]\n",
        "  clear_output(True)\n",
        "  plt.imshow(mappa)\n",
        "  plt.show()\n",
        "  time.sleep(1)"
      ],
      "execution_count": 0,
      "outputs": []
    },
    {
      "metadata": {
        "id": "ZV-wEP9s-JAP",
        "colab_type": "text"
      },
      "cell_type": "markdown",
      "source": [
        "## Visualize the agent.\n",
        "Visualize what the agent is doing in this interactive plotting of the environment. The agent is black, the cube is red, the goal is green."
      ]
    },
    {
      "metadata": {
        "id": "dVtF8LsfBTTS",
        "colab_type": "code",
        "outputId": "0d6a0e2b-ff9f-42bc-9de9-95c3b38c7bab",
        "colab": {
          "base_uri": "https://localhost:8080/",
          "height": 561
        }
      },
      "cell_type": "code",
      "source": [
        "fails, wins = 0,0\n",
        "for i in range(100):\n",
        "    env = World()\n",
        "    state = env.reset()\n",
        "    done = False\n",
        "    st = 0\n",
        "    while not done:\n",
        "        st+=1\n",
        "        if st == 30: \n",
        "            done = True\n",
        "            fails+=1\n",
        "            break\n",
        "        act = policy_net.get_action(np.array(state, dtype = np.float64))\n",
        "        act = np.array(act, dtype = np.float64)\n",
        "        state = np.array(state, dtype = np.float64)\n",
        "   #     print(\"value\", value_net(state.reshape((1,-1)), act.reshape((1,-1))))\n",
        "        act += np.random.randn(2)*0.1\n",
        "    #    print(act)\n",
        "        for a in range(len(act)):\n",
        "            if act[a] < -0.3 : act[a] = -1.\n",
        "            if act[a] > -0.3 and act[a] < 0.3: act[a] = 0.\n",
        "            if act[a] > 0.3: act[a] = 1.\n",
        "    #    print(act)\n",
        "        next_state, reward, done, _ = env.step(act)\n",
        "        if reward==1:\n",
        "            wins+=1\n",
        "    #    print(next_state)\n",
        "        env.show()\n",
        "        state = next_state\n",
        "        show(state)\n",
        "    #    print(\"REWARD\", reward, \"DONE\", done)"
      ],
      "execution_count": 0,
      "outputs": [
        {
          "output_type": "display_data",
          "data": {
            "image/png": "[encoded data removed]",
            "text/plain": [
              "<matplotlib.figure.Figure at 0x7f42e400c438>"
            ]
          },
          "metadata": {
            "tags": []
          }
        },
        {
          "output_type": "error",
          "ename": "KeyboardInterrupt",
          "evalue": "ignored",
          "traceback": [
            "\u001b[0;31m---------------------------------------------------------------------------\u001b[0m",
            "\u001b[0;31mKeyboardInterrupt\u001b[0m                         Traceback (most recent call last)",
            "\u001b[0;32m<ipython-input-12-86afa4783e06>\u001b[0m in \u001b[0;36m<module>\u001b[0;34m()\u001b[0m\n\u001b[1;32m     28\u001b[0m         \u001b[0menv\u001b[0m\u001b[0;34m.\u001b[0m\u001b[0mshow\u001b[0m\u001b[0;34m(\u001b[0m\u001b[0;34m)\u001b[0m\u001b[0;34m\u001b[0m\u001b[0m\n\u001b[1;32m     29\u001b[0m         \u001b[0mstate\u001b[0m \u001b[0;34m=\u001b[0m \u001b[0mnext_state\u001b[0m\u001b[0;34m\u001b[0m\u001b[0m\n\u001b[0;32m---> 30\u001b[0;31m         \u001b[0mshow\u001b[0m\u001b[0;34m(\u001b[0m\u001b[0mstate\u001b[0m\u001b[0;34m)\u001b[0m\u001b[0;34m\u001b[0m\u001b[0m\n\u001b[0m\u001b[1;32m     31\u001b[0m     \u001b[0;31m#    print(\"REWARD\", reward, \"DONE\", done)\u001b[0m\u001b[0;34m\u001b[0m\u001b[0;34m\u001b[0m\u001b[0m\n",
            "\u001b[0;32m<ipython-input-11-d2cb622cad5e>\u001b[0m in \u001b[0;36mshow\u001b[0;34m(state)\u001b[0m\n\u001b[1;32m     11\u001b[0m   \u001b[0mplt\u001b[0m\u001b[0;34m.\u001b[0m\u001b[0mimshow\u001b[0m\u001b[0;34m(\u001b[0m\u001b[0mmappa\u001b[0m\u001b[0;34m)\u001b[0m\u001b[0;34m\u001b[0m\u001b[0m\n\u001b[1;32m     12\u001b[0m   \u001b[0mplt\u001b[0m\u001b[0;34m.\u001b[0m\u001b[0mshow\u001b[0m\u001b[0;34m(\u001b[0m\u001b[0;34m)\u001b[0m\u001b[0;34m\u001b[0m\u001b[0m\n\u001b[0;32m---> 13\u001b[0;31m   \u001b[0mtime\u001b[0m\u001b[0;34m.\u001b[0m\u001b[0msleep\u001b[0m\u001b[0;34m(\u001b[0m\u001b[0;36m1\u001b[0m\u001b[0;34m)\u001b[0m\u001b[0;34m\u001b[0m\u001b[0m\n\u001b[0m",
            "\u001b[0;31mKeyboardInterrupt\u001b[0m: "
          ]
        }
      ]
    },
    {
      "metadata": {
        "id": "GIgtCzqxpaMR",
        "colab_type": "code",
        "colab": {}
      },
      "cell_type": "code",
      "source": [
        ""
      ],
      "execution_count": 0,
      "outputs": []
    },
    {
      "metadata": {
        "id": "mPtAqP5LHkpE",
        "colab_type": "code",
        "colab": {}
      },
      "cell_type": "code",
      "source": [
        ""
      ],
      "execution_count": 0,
      "outputs": []
    }
  ]
}